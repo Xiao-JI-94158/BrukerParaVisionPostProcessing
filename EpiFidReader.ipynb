{
 "cells": [
  {
   "cell_type": "code",
   "execution_count": 28,
   "id": "6a11f3bd",
   "metadata": {},
   "outputs": [],
   "source": [
    "# Official packages\n",
    "import os\n",
    "import copy\n",
    "import math\n",
    "\n",
    "# Third-party packages\n",
    "import numpy as np\n",
    "import pandas as pd\n",
    "\n",
    "import matplotlib.pyplot as plt\n",
    "import matplotlib.cm as cm\n",
    "\n",
    "# In-house packages\n",
    "from BrukerSpSpEpi import BrukerSpSpEpiExp\n"
   ]
  },
  {
   "cell_type": "code",
   "execution_count": 29,
   "id": "c390949a",
   "metadata": {},
   "outputs": [],
   "source": [
    "\n",
    "\n",
    "def zerofill_fid_2d(fid_2d):\n",
    "    nbr_zerofill_lines = spsp_epi._exp_data_dim_dict['dim_r_image_ph'] - spsp_epi._exp_data_dim_dict['dim_k_raw_ph']\n",
    "    zerofilled_fid_2d = np.pad(fid_2d, ((nbr_zerofill_lines, 0),(0, 0)), 'constant', constant_values=(0))\n",
    "    return zerofilled_fid_2d\n",
    "\n",
    "def split_fid_2d(fid_2d):\n",
    "    fid_left = fid_2d[...,:spsp_epi._exp_data_dim_dict['dim_k_raw_ro']:]\n",
    "    fid_right = fid_2d[...,spsp_epi._exp_data_dim_dict['dim_k_raw_ro']::]\n",
    "    return fid_left, fid_right\n",
    "\n",
    "def mirror_odd_lines(fid_2d):\n",
    "    mirrored_fid_2d = copy.deepcopy(fid_2d)\n",
    "    for line_nbr, line in enumerate(mirrored_fid_2d):\n",
    "        if (line_nbr % 2 ):\n",
    "             mirrored_fid_2d[line_nbr] = line[::-1,...]\n",
    "    return mirrored_fid_2d\n",
    "\n",
    "def synthesize_phase_conjugate_fid_2d(fid_2d):\n",
    "    synthesized_fid_2d = copy.deepcopy(fid_2d)\n",
    "    for line_idx, line in enumerate(fid_2d):\n",
    "        if (not line.any()):\n",
    "            line = zerofilled_fid_2d[-1*line_idx]\n",
    "            synthesized_fid_2d[line_idx] = line[::-1]\n",
    "    return synthesized_fid_2d\n",
    "\n",
    "def align_echo_center(fid_2d):\n",
    "    aligned_fid_2d = copy.deepcopy(fid_2d)\n",
    "    for idx, line in enumerate(fid_2d):\n",
    "        shift = 60 - np.argmax(np.abs(line))\n",
    "        aligned_fid_2d[idx] = np.roll(line, shift)\n",
    "    return aligned_fid_2d\n",
    "\n",
    "def _normalize(array):\n",
    "    return array/np.max(array)\n",
    "\n",
    "def view_epi_slice_3d(spsp_epi_exp):\n",
    "    \n",
    "    fig = plt.figure()\n",
    "    ax = fig.gca(projection='3d')\n",
    "    #X, Y, Z = axes3d.get_test_data(0.01)\n",
    "\n",
    "    _x = np.arange(0, spsp_epi_exp._exp_data_dim_dict['dim_r_image_ro'], 1 )\n",
    "    _y = np.arange(0, spsp_epi_exp._exp_data_dim_dict['dim_r_image_ph'], 1)\n",
    "\n",
    "    X, Y = np.meshgrid(_x, _y)\n",
    "    Z = _normalize(spsp_epi_exp.r_space_data['Mag'])\n",
    "\n",
    "    # Plot the 3D surface\n",
    "    ax.plot_surface(X, Y, Z, cmap=cm.RdGy_r, linewidth=0.5, antialiased=False,alpha=0.25)\n",
    "\n",
    "    # Plot projections of the contours for each dimension.  By choosing offsets\n",
    "    # that match the appropriate axes limits, the projected contours will sit on\n",
    "    # the 'walls' of the graph\n",
    "    cset = ax.contour(X, Y, Z, zdir='z', offset=-.1, cmap=cm.seismic, alpha=0.99)\n",
    "\n",
    "    x = np.arange(0, spsp_epi_exp._exp_data_dim_dict['dim_r_image_ro'], 1 )\n",
    "    y = _normalize(spsp_epi_exp.magnitude_proj['ph'])\n",
    "    ax.plot(x, y, zs=0, zdir='x', label='curve in (x, y)')\n",
    "\n",
    "    x = np.arange(0, spsp_epi_exp._exp_data_dim_dict['dim_r_image_ph'], 1 )\n",
    "    y = _normalize(spsp_epi_exp.magnitude_proj['ro'])\n",
    "    ax.plot(x, y, zs=120, zdir='y', label='curve in (x, y)')\n",
    "\n",
    "    ax.set_xlim(-0, 120)\n",
    "    ax.set_ylim(-0, 120)\n",
    "    ax.set_zlim(-.1, 1)\n",
    "\n",
    "    ax.set_xlabel('Ph-Direction')\n",
    "    ax.set_ylabel('RO-Direction')\n",
    "    ax.set_zlabel('Normalized Intensity [1]')\n",
    "\n",
    "    plt.show()\n",
    "\n",
    "\n",
    "\n",
    "def process_fid(raw_fid):\n",
    "    test_fid = np.array(np.array_split(raw_fid,16))\n",
    "    k_space = {}\n",
    " \n",
    "    k_space['Pos'] = np.squeeze(test_fid[...,:16:])\n",
    "    k_space['Neg'] = np.squeeze(test_fid[...,16::])\n",
    "    \n",
    "    r_space[\"Pos\"] = np.fft.fftshift(np.fft.fft2(k_space[\"Pos\"]))\n",
    "    r_space[\"Neg\"] = np.fft.fftshift(np.fft.fft2(k_space[\"Neg\"]))\n",
    "    r_space[\"Abs\"]  = np.abs(r_space['Pos']) + np.abs(r_space['Neg'])\n",
    "\n",
    "    return k_space, r_space"
   ]
  },
  {
   "cell_type": "code",
   "execution_count": 30,
   "id": "995524ea",
   "metadata": {},
   "outputs": [],
   "source": [
    "calib_exp_dir = \"C:\\\\Users\\\\Xiao JI\\\\OneDrive - University of California, San Francisco\\\\Documents\\\\Projects\\\\SpectroSpatial\\\\BrukerSpSpEPI\\\\20230305_163320_AgroseCylinder2_1_1\\\\21\"\n",
    "        \n",
    "spsp_epi_calib = BrukerSpSpEpiExp(calib_exp_dir)\n",
    "\n",
    "\n",
    "\n"
   ]
  },
  {
   "cell_type": "code",
   "execution_count": 31,
   "id": "6675e6d9",
   "metadata": {},
   "outputs": [],
   "source": [
    "overflow_exp_dir = \"../LTL610_014_HP_spspEPI_6.0.1//20\"\n",
    "\n",
    "spsp_epi_overflow = BrukerSpSpEpiExp(overflow_exp_dir)"
   ]
  },
  {
   "cell_type": "code",
   "execution_count": 32,
   "metadata": {},
   "outputs": [
    {
     "name": "stdout",
     "output_type": "stream",
     "text": [
      "True\n"
     ]
    }
   ],
   "source": [
    "intervals = np.tile(spsp_epi_overflow.dataset['PARAM']['ACQ_repetition_time']/1000, reps=spsp_epi_overflow.dataset['PARAM']['NR']) + np.tile(spsp_epi_overflow.dataset['PARAM']['Vd1List'], reps=int(spsp_epi_overflow.dataset['PARAM']['NR'] / spsp_epi_overflow.dataset['PARAM'][\"NumChemicalShifts\"]))\n",
    "\n",
    "intervals = np.concatenate((np.array([0]), intervals[:-1:]))\n",
    "\n",
    "intervals = np.cumsum(intervals)\n",
    "\n",
    "print(all(intervals == spsp_epi_overflow.dataset['DATA']['time_point_sec']))\n"
   ]
  },
  {
   "cell_type": "code",
   "execution_count": 33,
   "id": "5fca34d8",
   "metadata": {},
   "outputs": [
    {
     "name": "stdout",
     "output_type": "stream",
     "text": [
      "[[[  0   1   2   3   4   5   6   7   8   9]\n",
      "  [ 10  11  12  13  14  15  16  17  18  19]\n",
      "  [ 20  21  22  23  24  25  26  27  28  29]]\n",
      "\n",
      " [[ 30  31  32  33  34  35  36  37  38  39]\n",
      "  [ 40  41  42  43  44  45  46  47  48  49]\n",
      "  [ 50  51  52  53  54  55  56  57  58  59]]\n",
      "\n",
      " [[ 60  61  62  63  64  65  66  67  68  69]\n",
      "  [ 70  71  72  73  74  75  76  77  78  79]\n",
      "  [ 80  81  82  83  84  85  86  87  88  89]]\n",
      "\n",
      " [[ 90  91  92  93  94  95  96  97  98  99]\n",
      "  [100 101 102 103 104 105 106 107 108 109]\n",
      "  [110 111 112 113 114 115 116 117 118 119]]] \n",
      "\n",
      "\n",
      "\n",
      "[[[  0   1   2   3   4   5   6   7   8   9]\n",
      "  [ 30  31  32  33  34  35  36  37  38  39]\n",
      "  [ 60  61  62  63  64  65  66  67  68  69]\n",
      "  [ 90  91  92  93  94  95  96  97  98  99]]\n",
      "\n",
      " [[ 10  11  12  13  14  15  16  17  18  19]\n",
      "  [ 40  41  42  43  44  45  46  47  48  49]\n",
      "  [ 70  71  72  73  74  75  76  77  78  79]\n",
      "  [100 101 102 103 104 105 106 107 108 109]]\n",
      "\n",
      " [[ 20  21  22  23  24  25  26  27  28  29]\n",
      "  [ 50  51  52  53  54  55  56  57  58  59]\n",
      "  [ 80  81  82  83  84  85  86  87  88  89]\n",
      "  [110 111 112 113 114 115 116 117 118 119]]]\n"
     ]
    }
   ],
   "source": [
    "a = range(120)\n",
    "\n",
    "a= np.reshape(a,(4,3,-1))\n",
    "print(a, \"\\n\"*3)\n",
    "\n",
    "a= np.swapaxes(a, axis1=0, axis2=1)\n",
    "print(a)\n",
    "\n"
   ]
  },
  {
   "cell_type": "code",
   "execution_count": 37,
   "id": "a183eaf3",
   "metadata": {},
   "outputs": [
    {
     "name": "stdout",
     "output_type": "stream",
     "text": [
      "True\n",
      "(1, 80, 120)\n"
     ]
    }
   ],
   "source": [
    "spsp_epi_calib = BrukerSpSpEpiExp(calib_exp_dir, does_reconstruction=True)\n",
    "\n",
    "\n",
    "print(spsp_epi_calib.post_processing_params['has_double_sampling'])\n",
    "print(np.shape(spsp_epi_calib.dataset['DATA']['k_space']['Pos']))"
   ]
  },
  {
   "cell_type": "code",
   "execution_count": 38,
   "id": "b0cc92a1",
   "metadata": {},
   "outputs": [
    {
     "name": "stdout",
     "output_type": "stream",
     "text": [
      "(54, 16, 16)\n"
     ]
    }
   ],
   "source": [
    "spsp_epi_overflow = BrukerSpSpEpiExp(overflow_exp_dir, does_reconstruction=True, does_zerofill=True)\n",
    "\n",
    "\n",
    "print(np.shape(spsp_epi_overflow.dataset['DATA']['k_space']['Pos']))"
   ]
  },
  {
   "cell_type": "code",
   "execution_count": 39,
   "id": "9a538c0a",
   "metadata": {},
   "outputs": [
    {
     "data": {
      "image/png": "[encoded data removed]",
      "text/plain": [
       "<Figure size 432x288 with 1 Axes>"
      ]
     },
     "metadata": {
      "needs_background": "light"
     },
     "output_type": "display_data"
    },
    {
     "data": {
      "image/png": "[encoded data removed]",
      "text/plain": [
       "<Figure size 432x288 with 1 Axes>"
      ]
     },
     "metadata": {
      "needs_background": "light"
     },
     "output_type": "display_data"
    }
   ],
   "source": [
    "plt.figure()\n",
    "plt.imshow(np.angle(spsp_epi_overflow.dataset['DATA']['k_space']['Pos'][2]))\n",
    "plt.show()\n",
    "plt.figure()\n",
    "plt.imshow(np.angle(spsp_epi_overflow.dataset['DATA']['k_space']['Neg'][2]))\n",
    "plt.show()"
   ]
  },
  {
   "cell_type": "code",
   "execution_count": 40,
   "id": "8e6d6053",
   "metadata": {},
   "outputs": [
    {
     "data": {
      "image/png": "[encoded data removed]",
      "text/plain": [
       "<Figure size 432x288 with 1 Axes>"
      ]
     },
     "metadata": {
      "needs_background": "light"
     },
     "output_type": "display_data"
    },
    {
     "data": {
      "image/png": "[encoded data removed]",
      "text/plain": [
       "<Figure size 432x288 with 1 Axes>"
      ]
     },
     "metadata": {
      "needs_background": "light"
     },
     "output_type": "display_data"
    }
   ],
   "source": [
    "plt.figure()\n",
    "plt.imshow(np.fliplr(np.flipud(spsp_epi_overflow.dataset['DATA']['r_image']['Abs'][2])))\n",
    "plt.show()\n",
    "plt.figure()\n",
    "plt.imshow(spsp_epi_overflow.dataset['DATA']['2dseq'][2])\n",
    "plt.show()"
   ]
  }
 ],
 "metadata": {
  "kernelspec": {
   "display_name": "base",
   "language": "python",
   "name": "python3"
  },
  "language_info": {
   "codemirror_mode": {
    "name": "ipython",
    "version": 3
   },
   "file_extension": ".py",
   "mimetype": "text/x-python",
   "name": "python",
   "nbconvert_exporter": "python",
   "pygments_lexer": "ipython3",
   "version": "3.9.7"
  },
  "vscode": {
   "interpreter": {
    "hash": "e4cce46d6be9934fbd27f9ca0432556941ea5bdf741d4f4d64c6cd7f8dfa8fba"
   }
  }
 },
 "nbformat": 4,
 "nbformat_minor": 5
}
